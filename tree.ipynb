{
 "cells": [
  {
   "cell_type": "code",
   "execution_count": 78,
   "metadata": {},
   "outputs": [],
   "source": [
    "#一、创建解析树和Evaluate\n",
    "class stack(object):\n",
    "    def __init__(self):#初始化空栈\n",
    "        self.items = []\n",
    "\n",
    "    def isEmpty(self):#是否为空\n",
    "         return self.items == []\n",
    "\n",
    "    def push(self, item):#入栈\n",
    "         self.items.append(item)\n",
    "\n",
    "    def pop(self):#出栈\n",
    "         return self.items.pop()\n",
    "\n",
    "    def peek(self):#查看栈顶元素\n",
    "         return self.items[len(self.items)-1]\n",
    "\n",
    "    def size(self):#查看栈的大小\n",
    "         return len(self.items)"
   ]
  },
  {
   "cell_type": "code",
   "execution_count": 98,
   "metadata": {},
   "outputs": [],
   "source": [
    "class BinaryTree:\n",
    "    def __init__(self,r): #初始化空树\n",
    "        self.root = r\n",
    "        self.leftChild = None\n",
    "        self.rightChild = None\n",
    "    \n",
    "    def insertLeft(self,newBranch): #定义插入左子树函数\n",
    "        if self.leftChild == None :\n",
    "            self.leftChild == BinaryTree(newBranch)\n",
    "\n",
    "        t = BinaryTree(newBranch)\n",
    "        t.lefttChild = self.leftChild\n",
    "        self.leftChild = t\n",
    "            \n",
    "    def insertRight(self,newBranch): #定义插入右子树函数\n",
    "        if self.rightChild == None :\n",
    "            self.rightChild == BinaryTree(newBranch)\n",
    "            \n",
    "        t = BinaryTree(newBranch)\n",
    "        t.rightChild = self.rightChild\n",
    "        self.rightChild = t\n",
    "\n",
    "    def getRightChild(self): \n",
    "        return self.rightChild    \n",
    "    def getLeftChild(self):  \n",
    "        return self.leftChild   \n",
    "    def setRootVal(self,obj):      \n",
    "        self.root = obj\n",
    "    def getRootVal(self):   \n",
    "        return self.root"
   ]
  },
  {
   "cell_type": "code",
   "execution_count": 117,
   "metadata": {},
   "outputs": [],
   "source": [
    "def buildParseTree(String):  #定义创建解析树函数\n",
    "    alist = String.split()\n",
    "    aStack = stack()\n",
    "    eTree = BinaryTree('')\n",
    "    aStack.push(eTree)\n",
    "    currentTree = eTree\n",
    "    \n",
    "    for i in alist :    #开始循环读取数字以及字符\n",
    "        if i == '(' :    #‘（’则创建左子树，当前节点下移\n",
    "            currentTree.insertLeft('')\n",
    "            aStack.push(currentTree)\n",
    "            currentTree = currentTree.getLeftChild()\n",
    "            \n",
    "        elif i in ['or','and','not']:  #若i为逻辑运算符则将逻辑运算符作为当前父节点的值并且创建右子树下移\n",
    "            currentTree.setRootVal(i)\n",
    "            currentTree.insertRight('')\n",
    "            aStack.push(currentTree)\n",
    "            currentTree = currentTree.getRightChild()    \n",
    "            \n",
    "        elif i not in ['+', '-', '*', '/', ')'] :   #i为数字则将当前节点的数值改为i的值并回到父节点\n",
    "            currentTree.setRootVal(int(i))\n",
    "            currentTree = aStack.pop()\n",
    "            \n",
    "        elif i in ['+','-','*','/'] :  #若i为运算符则将运算符作为当前父节点的值并且创建右子树下移\n",
    "            currentTree.setRootVal(i)\n",
    "            currentTree.insertRight('')\n",
    "            aStack.push(currentTree)\n",
    "            currentTree = currentTree.getRightChild()\n",
    "            \n",
    "        elif i == ')' : #若i为‘）’则返回到父节点，直到回到树的根节点\n",
    "            currentTree = aStack.pop()\n",
    "        else :              \n",
    "            raise ValueError #不属于以上情况则提示输入的值有误\n",
    "    return eTree #返回树"
   ]
  },
  {
   "cell_type": "code",
   "execution_count": 85,
   "metadata": {},
   "outputs": [],
   "source": [
    "import operator #调用operator模块\n",
    "def evaluate(parseTree): #定义evaluate函数\n",
    "    \n",
    "    #定义opers字典并通过运算符来对应相应的功能    \n",
    "    opers = {'+':operator.add, '-':operator.sub, '*':operator.mul, '/':operator.truediv,\n",
    "             'and':operator.and_, 'or':operator.or_, 'not':operator.not_} \n",
    "    \n",
    "    leftC = parseTree.getLeftChild()\n",
    "    rightC = parseTree.getRightChild()\n",
    "    \n",
    "    if leftC and rightC :\n",
    "        oper = opers[parseTree.getRootVal()]\n",
    "        return oper(evaluate(leftC),evaluate(rightC))\n",
    "    else :\n",
    "        return parseTree.getRootVal()"
   ]
  },
  {
   "cell_type": "code",
   "execution_count": 138,
   "metadata": {},
   "outputs": [
    {
     "name": "stdout",
     "output_type": "stream",
     "text": [
      "60\n"
     ]
    }
   ],
   "source": [
    "a = buildParseTree(\" ( ( 10 + 5 ) * 4 ) \")\n",
    "print(evaluate(a))"
   ]
  },
  {
   "cell_type": "code",
   "execution_count": 126,
   "metadata": {},
   "outputs": [
    {
     "name": "stdout",
     "output_type": "stream",
     "text": [
      "0\n"
     ]
    }
   ],
   "source": [
    "b = buildParseTree(\" ( 0 and 1 ) \")\n",
    "print(evaluate(b))"
   ]
  },
  {
   "cell_type": "code",
   "execution_count": 136,
   "metadata": {},
   "outputs": [
    {
     "name": "stdout",
     "output_type": "stream",
     "text": [
      "1\n"
     ]
    }
   ],
   "source": [
    "c = buildParseTree(\" ( 0 or 1 ) \")\n",
    "print(evaluate(c))"
   ]
  },
  {
   "cell_type": "code",
   "execution_count": 137,
   "metadata": {},
   "outputs": [
    {
     "name": "stdout",
     "output_type": "stream",
     "text": [
      "\n"
     ]
    }
   ],
   "source": [
    "d = buildParseTree(\" ( not 1 ) \")\n",
    "print(evaluate(d))"
   ]
  },
  {
   "cell_type": "code",
   "execution_count": 140,
   "metadata": {},
   "outputs": [],
   "source": [
    "#二、printexp函数\n",
    "def printexp(tree):\n",
    "    val = \"\"\n",
    "    leftB = tree.getLeftChild()\n",
    "    rightB = tree.getRightChild()\n",
    "    if leftB and rightB : #若当前节点不存在叶子节点则直接返回val值，以此可以去掉数字周围多余的括号\n",
    "        val = '(' + printexp(tree.getLeftChild())\n",
    "        val = val + str(tree.getRootVal)\n",
    "        val = val + printexp(tree.getRightChild()) + ')'\n",
    "    return val"
   ]
  },
  {
   "cell_type": "code",
   "execution_count": 141,
   "metadata": {},
   "outputs": [
    {
     "data": {
      "text/plain": [
       "'((<bound method BinaryTree.getRootVal of <__main__.BinaryTree object at 0x0000023988CF9B00>>)<bound method BinaryTree.getRootVal of <__main__.BinaryTree object at 0x0000023988CF9A90>>)'"
      ]
     },
     "execution_count": 141,
     "metadata": {},
     "output_type": "execute_result"
    }
   ],
   "source": [
    "printexp(a)"
   ]
  },
  {
   "cell_type": "code",
   "execution_count": null,
   "metadata": {},
   "outputs": [],
   "source": []
  }
 ],
 "metadata": {
  "kernelspec": {
   "display_name": "Python 3",
   "language": "python",
   "name": "python3"
  },
  "language_info": {
   "codemirror_mode": {
    "name": "ipython",
    "version": 3
   },
   "file_extension": ".py",
   "mimetype": "text/x-python",
   "name": "python",
   "nbconvert_exporter": "python",
   "pygments_lexer": "ipython3",
   "version": "3.7.3"
  }
 },
 "nbformat": 4,
 "nbformat_minor": 2
}
